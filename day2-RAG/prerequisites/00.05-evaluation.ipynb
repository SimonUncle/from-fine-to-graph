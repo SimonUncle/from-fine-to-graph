{
 "cells": [
  {
   "cell_type": "markdown",
   "metadata": {},
   "source": [
    "# 📊 00.05: RAG 평가 맛보기 \n",
    "\n",
    "## 💡 내가 만든 RAG가 얼마나 잘 작동하는지 확인해보자!"
   ]
  },
  {
   "cell_type": "code",
   "execution_count": null,
   "metadata": {},
   "outputs": [],
   "source": [
    "# 1. 간단한 정확도 평가\n",
    "from langchain.embeddings import HuggingFaceEmbeddings\n",
    "from langchain_community.vectorstores import FAISS\n",
    "from langchain.schema import Document\n",
    "\n",
    "# 평가용 데이터셋\n",
    "eval_questions = [\n",
    "    {\"question\": \"파이썬 만든 사람?\", \"expected_keyword\": \"귀도\"},\n",
    "    {\"question\": \"RAG란 뭐야?\", \"expected_keyword\": \"검색과 생성\"},\n",
    "    {\"question\": \"머신러닝 설명해줘\", \"expected_keyword\": \"데이터로 패턴\"}\n",
    "]\n",
    "\n",
    "documents = [\n",
    "    \"파이썬은 1991년 귀도가 만든 프로그래밍 언어입니다.\",\n",
    "    \"머신러닝은 데이터로 패턴을 학습하는 기술입니다.\",\n",
    "    \"RAG는 검색과 생성을 합친 AI입니다.\"\n",
    "]\n",
    "\n",
    "docs = [Document(page_content=text) for text in documents]\n",
    "embeddings = HuggingFaceEmbeddings(model_name=\"BAAI/bge-m3\")\n",
    "vectorstore = FAISS.from_documents(docs, embeddings)\n",
    "\n",
    "print(\"📋 평가 데이터셋 준비 완료!\")"
   ]
  },
  {
   "cell_type": "code",
   "execution_count": null,
   "metadata": {},
   "outputs": [],
   "source": [
    "# 2. 검색 정확도 측정\n",
    "correct = 0\n",
    "total = len(eval_questions)\n",
    "\n",
    "print(\"🔍 검색 정확도 평가 중...\")\n",
    "for i, item in enumerate(eval_questions, 1):\n",
    "    question = item[\"question\"]\n",
    "    expected = item[\"expected_keyword\"]\n",
    "    \n",
    "    # 검색 수행\n",
    "    results = vectorstore.similarity_search(question, k=1)\n",
    "    retrieved_text = results[0].page_content\n",
    "    \n",
    "    # 키워드 포함 여부 확인\n",
    "    is_correct = expected in retrieved_text\n",
    "    if is_correct:\n",
    "        correct += 1\n",
    "    \n",
    "    print(f\"{i}. '{question}'\")\n",
    "    print(f\"   검색결과: {retrieved_text[:30]}...\")\n",
    "    print(f\"   정답여부: {'✅' if is_correct else '❌'}\")\n",
    "    print()\n",
    "\n",
    "accuracy = correct / total * 100\n",
    "print(f\"📊 검색 정확도: {accuracy:.1f}% ({correct}/{total})\")"
   ]
  },
  {
   "cell_type": "code",
   "execution_count": null,
   "metadata": {},
   "outputs": [],
   "source": [
    "# 3. 검색 속도 측정\n",
    "import time\n",
    "\n",
    "print(\"⏱️ 검색 속도 평가 중...\")\n",
    "speeds = []\n",
    "for question_data in eval_questions:\n",
    "    question = question_data[\"question\"]\n",
    "    \n",
    "    start_time = time.time()\n",
    "    results = vectorstore.similarity_search(question, k=1)\n",
    "    end_time = time.time()\n",
    "    \n",
    "    speed = end_time - start_time\n",
    "    speeds.append(speed)\n",
    "    print(f\"'{question}': {speed*1000:.1f}ms\")\n",
    "\n",
    "avg_speed = sum(speeds) / len(speeds)\n",
    "print(f\"\\n📊 평균 검색 속도: {avg_speed*1000:.1f}ms\")"
   ]
  },
  {
   "cell_type": "code",
   "execution_count": null,
   "metadata": {},
   "outputs": [],
   "source": [
    "# 4. 유사도 점수 분포 확인\n",
    "print(\"📈 유사도 점수 분포 확인...\")\n",
    "for question_data in eval_questions:\n",
    "    question = question_data[\"question\"]\n",
    "    \n",
    "    # 점수와 함께 검색\n",
    "    results = vectorstore.similarity_search_with_score(question, k=3)\n",
    "    print(f\"\\n'{question}' 검색 결과:\")\n",
    "    for i, (doc, score) in enumerate(results, 1):\n",
    "        print(f\"  {i}위: {doc.page_content[:25]}... (점수: {score:.3f})\")"
   ]
  },
  {
   "cell_type": "code",
   "execution_count": null,
   "metadata": {},
   "outputs": [],
   "source": [
    "# 5. 전체 평가 요약\n",
    "print(\"🎉 RAG 평가 완료!\")\n",
    "print(f\"✅ 검색 정확도: {accuracy:.1f}%\")\n",
    "print(f\"✅ 평균 속도: {avg_speed*1000:.1f}ms\")\n",
    "print(f\"✅ 문서 수: {len(documents)}개\")\n",
    "print(f\"✅ 평가 케이스: {len(eval_questions)}개\")\n",
    "print(\"💡 이제 본격적인 RAG 실습을 시작할 준비 완료!\")"
   ]
  }
 ],
 "metadata": {
  "kernelspec": {
   "display_name": "Python 3",
   "language": "python",
   "name": "python3"
  },
  "language_info": {
   "codemirror_mode": {
    "name": "ipython",
    "version": 3
   },
   "file_extension": ".py",
   "name": "python",
   "nbconvert_exporter": "python",
   "pygments_lexer": "ipython3",
   "version": "3.8.0"
  }
 },
 "nbformat": 4,
 "nbformat_minor": 4
}
