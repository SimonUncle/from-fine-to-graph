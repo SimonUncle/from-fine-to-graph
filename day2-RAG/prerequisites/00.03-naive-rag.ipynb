{
 "cells": [
  {
   "cell_type": "markdown",
   "metadata": {},
   "source": [
    "# 🔍 00.03: 기본 RAG 맛보기\n",
    "\n",
    "## 💡 검색 + 생성이 어떻게 작동하는지 체험!"
   ]
  },
  {
   "cell_type": "code",
   "execution_count": null,
   "metadata": {},
   "outputs": [],
   "source": [
    "# 1. 이전 단계에서 만든 벡터 저장소 재사용\n",
    "from langchain.embeddings import HuggingFaceEmbeddings\n",
    "from langchain_community.vectorstores import FAISS\n",
    "from langchain.schema import Document\n",
    "\n",
    "# 간단한 문서들\n",
    "documents = [\n",
    "    \"파이썬은 1991년 귀도가 만든 프로그래밍 언어입니다.\",\n",
    "    \"머신러닝은 데이터로 패턴을 학습하는 기술입니다.\",\n",
    "    \"RAG는 검색과 생성을 합친 AI입니다.\"\n",
    "]\n",
    "docs = [Document(page_content=text) for text in documents]\n",
    "embeddings = HuggingFaceEmbeddings(model_name=\"BAAI/bge-m3\")\n",
    "vectorstore = FAISS.from_documents(docs, embeddings)\n",
    "print(\"🗃️ 벡터 저장소 준비 완료!\")"
   ]
  },
  {
   "cell_type": "code",
   "execution_count": null,
   "metadata": {},
   "outputs": [],
   "source": [
    "# 2. 질문으로 관련 문서 검색하기\n",
    "question = \"RAG가 뭐야?\"\n",
    "results = vectorstore.similarity_search(question, k=1)\n",
    "context = results[0].page_content\n",
    "print(f\"🔍 '{question}' 검색 결과:\")\n",
    "print(f\"→ 찾은 문서: {context}\")"
   ]
  },
  {
   "cell_type": "code",
   "execution_count": null,
   "metadata": {},
   "outputs": [],
   "source": [
    "# 3. 검색된 문서를 바탕으로 답변 생성\n",
    "from transformers import pipeline\n",
    "\n",
    "# 간단한 생성 모델 (실제론 더 큰 모델 사용)\n",
    "generator = pipeline('text-generation', \n",
    "                    model='gpt2', \n",
    "                    max_length=100, \n",
    "                    do_sample=True, \n",
    "                    temperature=0.7)\n",
    "\n",
    "prompt = f\"질문: {question}\\n컨텍스트: {context}\\n답변:\"\n",
    "response = generator(prompt, max_length=len(prompt)+50)[0]['generated_text']\n",
    "answer = response[len(prompt):].strip()\n",
    "\n",
    "print(f\"🤖 RAG 답변:\")\n",
    "print(f\"→ {answer}\")"
   ]
  },
  {
   "cell_type": "code",
   "execution_count": null,
   "metadata": {},
   "outputs": [],
   "source": [
    "# 4. RAG 과정 정리\n",
    "print(\"🎉 기본 RAG 체험 완료!\")\n",
    "print(\"✅ 1단계: 질문 입력\")\n",
    "print(\"✅ 2단계: 관련 문서 검색\")\n",
    "print(\"✅ 3단계: 컨텍스트로 답변 생성\")\n",
    "print(\"💡 다음: 00.04에서 고급 RAG 기능들 맛보기!\")"
   ]
  }
 ],
 "metadata": {
  "kernelspec": {
   "display_name": "Python 3",
   "language": "python",
   "name": "python3"
  },
  "language_info": {
   "codemirror_mode": {
    "name": "ipython",
    "version": 3
   },
   "file_extension": ".py",
   "name": "python",
   "nbconvert_exporter": "python",
   "pygments_lexer": "ipython3",
   "version": "3.8.0"
  }
 },
 "nbformat": 4,
 "nbformat_minor": 4
}
