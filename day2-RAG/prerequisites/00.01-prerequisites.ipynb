{
 "cells": [
  {
   "cell_type": "markdown",
   "metadata": {},
   "source": [
    "# 🚀 00.01: RAG 맛보기 (5분)\n",
    "\n",
    "## 💡 한 줄씩 실행해서 RAG가 뭔지 체험해보세요!\n",
    "- 설치 → 임베딩 → 검색 → LLM 답변 순서로 진행"
   ]
  },
  {
   "cell_type": "code",
   "execution_count": null,
   "metadata": {},
   "outputs": [],
   "source": [
    "# 1. 라이브러리 설치 (RAG에 필요한 것들)\n",
    "!pip install -q langchain-community faiss-cpu sentence-transformers transformers torch"
   ]
  },
  {
   "cell_type": "code",
   "execution_count": null,
   "metadata": {},
   "outputs": [],
   "source": [
    "# 2. 간단한 문서 3개 만들기\n",
    "documents = [\n",
    "    \"파이썬은 1991년 귀도 반 로섬이 만든 프로그래밍 언어입니다.\",\n",
    "    \"머신러닝은 컴퓨터가 데이터로부터 학습하는 AI 기술입니다.\", \n",
    "    \"RAG는 검색과 생성을 결합한 AI 시스템입니다.\"\n",
    "]\n",
    "print(f\"📄 문서 {len(documents)}개 준비됨\")"
   ]
  },
  {
   "cell_type": "code",
   "execution_count": null,
   "metadata": {},
   "outputs": [],
   "source": [
    "# 3. 임베딩 모델 로드 (텍스트를 숫자로 변환)\n",
    "from langchain.embeddings import HuggingFaceEmbeddings\n",
    "embeddings = HuggingFaceEmbeddings(model_name=\"BAAI/bge-m3\")\n",
    "print(\"🔢 임베딩 모델 준비 완료!\")"
   ]
  },
  {
   "cell_type": "code",
   "execution_count": null,
   "metadata": {},
   "outputs": [],
   "source": [
    "# 4. 벡터 저장소 만들기 (빠른 검색용)\n",
    "from langchain_community.vectorstores import FAISS\n",
    "from langchain.schema import Document\n",
    "docs = [Document(page_content=text) for text in documents]\n",
    "vectorstore = FAISS.from_documents(docs, embeddings)\n",
    "print(\"🗃️ 벡터 저장소 구축 완료!\")"
   ]
  },
  {
   "cell_type": "code",
   "execution_count": null,
   "metadata": {},
   "outputs": [],
   "source": [
    "# 5. 질문으로 문서 검색해보기\n",
    "question = \"RAG가 뭐야?\"\n",
    "results = vectorstore.similarity_search(question, k=1)\n",
    "print(f\"🔍 '{question}' 검색 결과:\")\n",
    "print(f\"→ {results[0].page_content}\")"
   ]
  },
  {
   "cell_type": "code",
   "execution_count": null,
   "metadata": {},
   "outputs": [],
   "source": [
    "# 6. 다른 질문도 검색해보기\n",
    "question2 = \"파이썬 만든 사람은?\"\n",
    "results2 = vectorstore.similarity_search(question2, k=1)\n",
    "print(f\"🔍 '{question2}' 검색 결과:\")\n",
    "print(f\"→ {results2[0].page_content}\")"
   ]
  },
  {
   "cell_type": "code",
   "execution_count": null,
   "metadata": {},
   "outputs": [],
   "source": [
    "# 7. RAG 체험 완료!\n",
    "print(\"🎉 RAG 맛보기 완료!\")\n",
    "print(\"✅ 문서 → 벡터 → 검색 → 관련 문서 찾기\")\n",
    "print(\"💡 다음: 00.02에서 실제 데이터로 해보기!\")"
   ]
  }
 ],
 "metadata": {
  "kernelspec": {
   "display_name": "Python 3",
   "language": "python",
   "name": "python3"
  },
  "language_info": {
   "codemirror_mode": {
    "name": "ipython",
    "version": 3
   },
   "file_extension": ".py",
   "name": "python",
   "nbconvert_exporter": "python",
   "pygments_lexer": "ipython3",
   "version": "3.8.0"
  }
 },
 "nbformat": 4,
 "nbformat_minor": 4
}