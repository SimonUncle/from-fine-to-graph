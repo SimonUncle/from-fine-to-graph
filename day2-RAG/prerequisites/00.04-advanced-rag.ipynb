{
 "cells": [
  {
   "cell_type": "markdown",
   "metadata": {},
   "source": [
    "# ⚡ 00.04: 고급 RAG 맛보기 (5분)\n",
    "\n",
    "## 💡 기본 RAG를 더 똑똑하게 만드는 방법들!"
   ]
  },
  {
   "cell_type": "code",
   "execution_count": null,
   "metadata": {},
   "outputs": [],
   "source": [
    "# 1. 하이브리드 검색 맛보기 (Vector + BM25)\n",
    "from langchain.embeddings import HuggingFaceEmbeddings\n",
    "from langchain_community.vectorstores import FAISS\n",
    "from langchain.schema import Document\n",
    "from rank_bm25 import BM25Okapi\n",
    "\n",
    "documents = [\n",
    "    \"파이썬은 1991년 귀도가 만든 프로그래밍 언어입니다.\",\n",
    "    \"머신러닝은 데이터로 패턴을 학습하는 기술입니다.\",\n",
    "    \"RAG는 검색과 생성을 합친 AI입니다.\"\n",
    "]\n",
    "\n",
    "# BM25 검색 (키워드 기반)\n",
    "tokenized_docs = [doc.split() for doc in documents]\n",
    "bm25 = BM25Okapi(tokenized_docs)\n",
    "query = \"RAG 검색\"\n",
    "bm25_scores = bm25.get_scores(query.split())\n",
    "print(f\"🔤 BM25 검색 (키워드): {documents[bm25_scores.argmax()]}\")"
   ]
  },
  {
   "cell_type": "code",
   "execution_count": null,
   "metadata": {},
   "outputs": [],
   "source": [
    "# 2. 메타데이터 필터링 맛보기\n",
    "docs_with_metadata = [\n",
    "    Document(page_content=\"파이썬 프로그래밍 언어\", metadata={\"category\": \"언어\", \"year\": 1991}),\n",
    "    Document(page_content=\"머신러닝 기술\", metadata={\"category\": \"AI\", \"year\": 2000}),\n",
    "    Document(page_content=\"RAG 시스템\", metadata={\"category\": \"AI\", \"year\": 2020})\n",
    "]\n",
    "\n",
    "# AI 카테고리만 필터링\n",
    "ai_docs = [doc for doc in docs_with_metadata if doc.metadata[\"category\"] == \"AI\"]\n",
    "print(f\"🏷️ AI 카테고리 문서 {len(ai_docs)}개 찾음:\")\n",
    "for doc in ai_docs:\n",
    "    print(f\"  - {doc.page_content} ({doc.metadata['year']}년)\")"
   ]
  },
  {
   "cell_type": "code",
   "execution_count": null,
   "metadata": {},
   "outputs": [],
   "source": [
    "# 3. 쿼리 확장 맛보기\n",
    "def expand_query(query):\n",
    "    \"\"\"간단한 쿼리 확장\"\"\"\n",
    "    synonyms = {\n",
    "        \"RAG\": [\"검색 증강 생성\", \"Retrieval Augmented Generation\"],\n",
    "        \"AI\": [\"인공지능\", \"머신러닝\", \"딥러닝\"],\n",
    "        \"파이썬\": [\"Python\", \"프로그래밍\"]\n",
    "    }\n",
    "    expanded = [query]\n",
    "    for word, syns in synonyms.items():\n",
    "        if word in query:\n",
    "            expanded.extend(syns)\n",
    "    return expanded\n",
    "\n",
    "original = \"RAG 설명\"\n",
    "expanded = expand_query(original)\n",
    "print(f\"🔍 쿼리 확장:\")\n",
    "print(f\"  원본: {original}\")\n",
    "print(f\"  확장: {expanded}\")"
   ]
  },
  {
   "cell_type": "code",
   "execution_count": null,
   "metadata": {},
   "outputs": [],
   "source": [
    "# 4. 리랭킹 맛보기\n",
    "import numpy as np\n",
    "\n",
    "def simple_rerank(docs, query, metadata_boost=0.2):\n",
    "    \"\"\"간단한 리랭킹 (메타데이터 가중치 적용)\"\"\"\n",
    "    scores = []\n",
    "    for doc in docs:\n",
    "        # 기본 점수 (랜덤하게 시뮬레이션)\n",
    "        base_score = np.random.random()\n",
    "        \n",
    "        # 메타데이터 보너스\n",
    "        bonus = 0\n",
    "        if hasattr(doc, 'metadata'):\n",
    "            if doc.metadata.get('category') == 'AI':\n",
    "                bonus += metadata_boost\n",
    "        \n",
    "        scores.append(base_score + bonus)\n",
    "    \n",
    "    # 점수 순으로 정렬\n",
    "    ranked = sorted(zip(docs, scores), key=lambda x: x[1], reverse=True)\n",
    "    return [doc for doc, score in ranked]\n",
    "\n",
    "reranked = simple_rerank(docs_with_metadata, \"AI 관련 질문\")\n",
    "print(f\"🏆 리랭킹 결과:\")\n",
    "for i, doc in enumerate(reranked, 1):\n",
    "    print(f\"  {i}위: {doc.page_content} ({doc.metadata['category']})\")"
   ]
  },
  {
   "cell_type": "code",
   "execution_count": null,
   "metadata": {},
   "outputs": [],
   "source": [
    "# 5. 고급 RAG 기능들 정리\n",
    "print(\"🎉 고급 RAG 맛보기 완료!\")\n",
    "print(\"✅ 하이브리드 검색: Vector + BM25 조합\")\n",
    "print(\"✅ 메타데이터 필터링: 카테고리별 필터\")\n",
    "print(\"✅ 쿼리 확장: 동의어로 검색 범위 확대\")\n",
    "print(\"✅ 리랭킹: 메타데이터로 우선순위 조정\")\n",
    "print(\"💡 다음: 00.05에서 RAG 성능 평가 맛보기!\")"
   ]
  }
 ],
 "metadata": {
  "kernelspec": {
   "display_name": "Python 3",
   "language": "python",
   "name": "python3"
  },
  "language_info": {
   "codemirror_mode": {
    "name": "ipython",
    "version": 3
   },
   "file_extension": ".py",
   "name": "python",
   "nbconvert_exporter": "python",
   "pygments_lexer": "ipython3",
   "version": "3.8.0"
  }
 },
 "nbformat": 4,
 "nbformat_minor": 4
}