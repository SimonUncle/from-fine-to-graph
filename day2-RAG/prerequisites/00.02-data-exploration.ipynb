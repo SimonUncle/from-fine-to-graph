{
 "cells": [
  {
   "cell_type": "markdown",
   "metadata": {},
   "source": [
    "# 📊 00.02: 데이터 맛보기 (5분)\n",
    "\n",
    "## 💡 RAG에 들어가는 데이터가 어떤 모습인지 체험!"
   ]
  },
  {
   "cell_type": "code",
   "execution_count": null,
   "metadata": {},
   "outputs": [],
   "source": [
    "# 1. 간단한 AI 문서들 만들기\n",
    "documents = [\n",
    "    \"파이썬은 1991년 귀도가 만든 프로그래밍 언어입니다.\",\n",
    "    \"머신러닝은 데이터로 패턴을 학습하는 기술입니다.\",\n",
    "    \"딥러닝은 뇌를 모방한 신경망 기술입니다.\",\n",
    "    \"RAG는 검색과 생성을 합친 AI입니다.\"\n",
    "]\n",
    "print(f\"📚 문서 {len(documents)}개 준비\")\n",
    "for i, doc in enumerate(documents, 1):\n",
    "    print(f\"{i}. {doc[:20]}...\")"
   ]
  },
  {
   "cell_type": "code",
   "execution_count": null,
   "metadata": {},
   "outputs": [],
   "source": [
    "# 2. 문서를 더 작은 조각으로 나누기 (청킹)\n",
    "from langchain.text_splitter import RecursiveCharacterTextSplitter\n",
    "splitter = RecursiveCharacterTextSplitter(chunk_size=50, chunk_overlap=10)\n",
    "chunks = []\n",
    "for doc in documents:\n",
    "    chunks.extend(splitter.split_text(doc))\n",
    "print(f\"✂️ 청크 {len(chunks)}개로 분할됨\")\n",
    "for i, chunk in enumerate(chunks[:3], 1):\n",
    "    print(f\"{i}. {chunk}\")"
   ]
  },
  {
   "cell_type": "code",
   "execution_count": null,
   "metadata": {},
   "outputs": [],
   "source": [
    "# 3. 텍스트를 숫자(벡터)로 변환\n",
    "from langchain.embeddings import HuggingFaceEmbeddings\n",
    "embeddings = HuggingFaceEmbeddings(model_name=\"BAAI/bge-m3\")\n",
    "sample_vector = embeddings.embed_query(chunks[0])\n",
    "print(f\"🔢 '{chunks[0]}'\")\n",
    "print(f\"→ {len(sample_vector)}차원 벡터로 변환됨\")\n",
    "print(f\"→ 처음 5개 숫자: {sample_vector[:5]}\")"
   ]
  },
  {
   "cell_type": "code",
   "execution_count": null,
   "metadata": {},
   "outputs": [],
   "source": [
    "# 4. 데이터 준비 완료!\n",
    "print(\"🎉 RAG 데이터 준비 완료!\")\n",
    "print(f\"✅ 원본문서 {len(documents)}개 → 청크 {len(chunks)}개 → 벡터화\")\n",
    "print(\"💡 다음: 00.03에서 실제 검색해보기!\")"
   ]
  }
 ],
 "metadata": {
  "kernelspec": {
   "display_name": "Python 3",
   "language": "python",
   "name": "python3"
  },
  "language_info": {
   "codemirror_mode": {
    "name": "ipython",
    "version": 3
   },
   "file_extension": ".py",
   "name": "python",
   "nbconvert_exporter": "python",
   "pygments_lexer": "ipython3",
   "version": "3.8.0"
  }
 },
 "nbformat": 4,
 "nbformat_minor": 4
}