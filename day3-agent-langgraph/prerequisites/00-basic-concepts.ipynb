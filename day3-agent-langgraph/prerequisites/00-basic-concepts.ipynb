{
 "cells": [
  {
   "cell_type": "markdown",
   "metadata": {},
   "source": [
    "# 🌟 00: LangGraph 기본 개념 맛보기\n",
    "\n",
    "## 💡 5분만에 이해하는 State와 Node!\n",
    "\n",
    "LangGraph의 핵심은 **State**(상태)와 **Node**(노드) 두 개념이에요.  \n",
    "복잡한 걸 배우기 전에 이 둘이 뭔지 간단하게 체험해보자!\n",
    "\n",
    "## 🎯 이 노트북에서 배우는 것들\n",
    "\n",
    "### ✅ 핵심 학습 목표\n",
    "1. **State (상태)**: 워크플로우의 데이터 저장소 개념과 TypedDict 활용\n",
    "2. **Node (노드)**: State를 처리하는 함수의 구조와 역할\n",
    "3. **StateGraph**: 노드들을 연결해서 워크플로우 만드는 방법\n",
    "4. **워크플로우 실행**: `compile()` → `invoke()` 실행 패턴\n",
    "5. **그래프 시각화**: `visualize_graph()`로 구조 파악하기\n",
    "6. **조건부 분기**: 입력에 따라 다른 경로로 처리하는 방법\n",
    "\n",
    "### 💡 실습 패턴\n",
    "각 섹션은 **정의 → 테스트 → 시각화 → 분석** 순서로 진행됩니다.\n",
    "\n",
    "### ⏱️ 예상 소요시간: 5분"
   ]
  },
  {
   "cell_type": "code",
   "execution_count": null,
   "metadata": {},
   "outputs": [],
   "source": [
    "# 필요한 라이브러리 설치\n",
    "!pip install -q langgraph langchain langchain-teddynote\n",
    "!pip install -q grandalf matplotlib networkx pyppeteer\n",
    "\n",
    "# 기본 import\n",
    "from typing import TypedDict\n",
    "from langgraph.graph import StateGraph, END, START\n",
    "from langchain_teddynote.graphs import visualize_graph\n",
    "\n",
    "print(\"✅ LangGraph 준비 완료!\")"
   ]
  },
  {
   "cell_type": "markdown",
   "metadata": {},
   "source": [
    "## 🎯 State란 뭘까?\n",
    "\n",
    "**State = 워크플로우에서 공유하는 데이터 주머니**\n",
    "\n",
    "- 처음에 뭔가 넣고 → 노드들이 처리하면서 업데이트 → 최종 결과 나옴\n",
    "- 딕셔너리처럼 생겼는데 타입이 정해져 있어!"
   ]
  },
  {
   "cell_type": "code",
   "execution_count": null,
   "metadata": {},
   "outputs": [],
   "source": [
    "# 가장 간단한 State 정의\n",
    "class SimpleState(TypedDict):\n",
    "    input: str      # 사용자가 넣을 데이터\n",
    "    output: str     # 최종 결과가 나올 곳\n",
    "\n",
    "# 예시 State\n",
    "example_state = {\n",
    "    \"input\": \"안녕하세요\",\n",
    "    \"output\": \"\"  # 아직 빈 상태\n",
    "}\n",
    "\n",
    "print(\"🗂️ SimpleState 정의 완료!\")\n",
    "print(f\"📝 예시: {example_state}\")"
   ]
  },
  {
   "cell_type": "markdown",
   "metadata": {},
   "source": [
    "## 🔧 Node란 뭘까?\n",
    "\n",
    "**Node = State를 받아서 처리하고 업데이트하는 함수**\n",
    "\n",
    "- State를 파라미터로 받음 → 뭔가 처리함 → 업데이트된 State 리턴\n",
    "- 함수 하나하나가 처리 단계가 됨!"
   ]
  },
  {
   "cell_type": "code",
   "execution_count": null,
   "metadata": {},
   "outputs": [],
   "source": [
    "# 가장 간단한 Node 함수\n",
    "def hello_node(state: SimpleState) -> SimpleState:\n",
    "    \"\"\"인사해주는 노드\"\"\"\n",
    "    user_input = state[\"input\"]\n",
    "    greeting = f\"🤖 안녕하세요, '{user_input}'라고 말씀하셨군요!\"\n",
    "    \n",
    "    return {\n",
    "        \"input\": user_input,      # 원래 input 유지\n",
    "        \"output\": greeting        # output 업데이트!\n",
    "    }\n",
    "\n",
    "# 테스트해보기\n",
    "test_state = {\"input\": \"반가워요\", \"output\": \"\"}\n",
    "result_state = hello_node(test_state)\n",
    "\n",
    "print(\"✅ hello_node 함수 정의 완료!\")\n",
    "print(f\"🧪 테스트 입력: {test_state}\")\n",
    "print(f\"🧪 테스트 출력: {result_state}\")"
   ]
  },
  {
   "cell_type": "markdown",
   "metadata": {},
   "source": [
    "## 🚀 첫 번째 워크플로우 만들기\n",
    "\n",
    "이제 **StateGraph**로 노드를 연결해서 워크플로우를 만들어보자!"
   ]
  },
  {
   "cell_type": "code",
   "execution_count": null,
   "metadata": {},
   "outputs": [],
   "source": [
    "# 1개 노드로 구성된 가장 간단한 워크플로우\n",
    "workflow = StateGraph(SimpleState)\n",
    "\n",
    "# 노드 추가\n",
    "workflow.add_node(\"hello\", hello_node)\n",
    "\n",
    "# 시작점과 끝점 설정\n",
    "workflow.set_entry_point(\"hello\")\n",
    "workflow.add_edge(\"hello\", END)\n",
    "\n",
    "# 실행 가능한 앱으로 컴파일\n",
    "app = workflow.compile()\n",
    "\n",
    "print(\"🎯 첫 번째 워크플로우 완성!\")\n",
    "print(\"   흐름: START → hello → END\")"
   ]
  },
  {
   "cell_type": "code",
   "execution_count": null,
   "metadata": {},
   "outputs": [],
   "source": [
    "# 첫 번째 그래프 시각화\n",
    "print(\"📊 첫 번째 워크플로우 구조:\")\n",
    "visualize_graph(app)"
   ]
  },
  {
   "cell_type": "code",
   "execution_count": null,
   "metadata": {},
   "outputs": [],
   "source": [
    "# 워크플로우 실행해보기\n",
    "initial_state = {\n",
    "    \"input\": \"LangGraph 배우는 중!\",\n",
    "    \"output\": \"\"\n",
    "}\n",
    "\n",
    "print(\"🚀 워크플로우 실행:\")\n",
    "print(f\"📥 초기 상태: {initial_state}\")\n",
    "\n",
    "final_state = app.invoke(initial_state)\n",
    "print(f\"📤 최종 상태: {final_state}\")\n",
    "print(f\"\\n🎉 결과: {final_state['output']}\")"
   ]
  },
  {
   "cell_type": "markdown",
   "metadata": {},
   "source": [
    "## 🔗 3개 노드 연결해보기\n",
    "\n",
    "이제 노드를 3개 만들어서 순서대로 실행해보자!  \n",
    "첫 번째 노드 → 두 번째 노드 → 세 번째 노드 → 끝"
   ]
  },
  {
   "cell_type": "code",
   "execution_count": null,
   "metadata": {},
   "outputs": [],
   "source": [
    "# 추가 노드들 정의\n",
    "def process_node(state: SimpleState) -> SimpleState:\n",
    "    \"\"\"입력을 처리하는 노드\"\"\"\n",
    "    user_input = state[\"input\"]\n",
    "    processed = f\"⚙️ '{user_input}'을(를) 처리했습니다\"\n",
    "    \n",
    "    return {\n",
    "        \"input\": user_input,\n",
    "        \"output\": processed\n",
    "    }\n",
    "\n",
    "def format_node(state: SimpleState) -> SimpleState:\n",
    "    \"\"\"결과를 예쁘게 포맷하는 노드\"\"\"\n",
    "    current_output = state[\"output\"]\n",
    "    formatted = f\"✨ [최종결과] {current_output} ✨\"\n",
    "    \n",
    "    return {\n",
    "        \"input\": state[\"input\"],\n",
    "        \"output\": formatted\n",
    "    }\n",
    "\n",
    "print(\"✅ 추가 노드들 정의 완료!\")"
   ]
  },
  {
   "cell_type": "code",
   "execution_count": null,
   "metadata": {},
   "outputs": [],
   "source": [
    "# 3개 노드를 연결한 워크플로우\n",
    "multi_workflow = StateGraph(SimpleState)\n",
    "\n",
    "# 노드들 추가\n",
    "multi_workflow.add_node(\"hello\", hello_node)\n",
    "multi_workflow.add_node(\"process\", process_node)\n",
    "multi_workflow.add_node(\"format\", format_node)\n",
    "\n",
    "# 연결: hello → process → format → END\n",
    "multi_workflow.set_entry_point(\"hello\")\n",
    "multi_workflow.add_edge(\"hello\", \"process\")\n",
    "multi_workflow.add_edge(\"process\", \"format\")\n",
    "multi_workflow.add_edge(\"format\", END)\n",
    "\n",
    "# 컴파일\n",
    "multi_app = multi_workflow.compile()\n",
    "\n",
    "print(\"🔗 3단계 워크플로우 완성!\")\n",
    "print(\"   흐름: hello → process → format → END\")"
   ]
  },
  {
   "cell_type": "code",
   "execution_count": null,
   "metadata": {},
   "outputs": [],
   "source": [
    "# 3단계 워크플로우 시각화  \n",
    "print(\"📊 3단계 워크플로우 구조:\")\n",
    "visualize_graph(multi_app)"
   ]
  },
  {
   "cell_type": "code",
   "execution_count": null,
   "metadata": {},
   "outputs": [],
   "source": [
    "# 3단계 워크플로우 실행 테스트\n",
    "test_input = {\n",
    "    \"input\": \"노드 체인 테스트\",\n",
    "    \"output\": \"\"\n",
    "}\n",
    "\n",
    "print(\"🧪 3단계 워크플로우 실행:\")\n",
    "print(f\"📥 입력: '{test_input['input']}'\")\n",
    "print(\"-\" * 50)\n",
    "\n",
    "final_result = multi_app.invoke(test_input)\n",
    "\n",
    "print(f\"📤 최종 결과: {final_result['output']}\")\n",
    "print(\"\\n🎯 3개 노드가 순서대로 처리했어요!\")"
   ]
  },
  {
   "cell_type": "code",
   "execution_count": null,
   "metadata": {},
   "outputs": [],
   "source": [
    "# 각 노드별 처리 과정 추적\n",
    "print(\"🔬 각 노드가 State를 어떻게 변경하는지 단계별 확인:\")\n",
    "print(\"=\" * 60)\n",
    "\n",
    "initial_state = {\"input\": \"단계별 추적\", \"output\": \"\"}\n",
    "print(f\"🏁 초기 상태: {initial_state}\")\n",
    "\n",
    "after_hello = hello_node(initial_state)\n",
    "print(f\"1️⃣ hello_node 후: {after_hello}\")\n",
    "\n",
    "after_process = process_node(after_hello)\n",
    "print(f\"2️⃣ process_node 후: {after_process}\")\n",
    "\n",
    "after_format = format_node(after_process)\n",
    "print(f\"3️⃣ format_node 후: {after_format}\")\n",
    "\n",
    "print(\"\\n💡 관찰: 각 노드가 State의 'output' 필드를 업데이트합니다!\")"
   ]
  },
  {
   "cell_type": "markdown",
   "metadata": {},
   "source": [
    "## 🤔 조건부 분기 맛보기\n",
    "\n",
    "입력 길이에 따라 다른 경로로 보내보자!  \n",
    "- 짧으면 → 간단 처리\n",
    "- 길면 → 복잡 처리"
   ]
  },
  {
   "cell_type": "code",
   "execution_count": null,
   "metadata": {},
   "outputs": [],
   "source": [
    "# 조건부 분기를 위한 상태와 함수들 정의\n",
    "class BranchState(TypedDict):\n",
    "    input: str\n",
    "    output: str\n",
    "    path: str  # 어떤 경로로 처리됐는지 추적\n",
    "\n",
    "def decide_path(state: BranchState):\n",
    "    \"\"\"입력 길이에 따라 경로 결정\"\"\"\n",
    "    input_text = state[\"input\"]\n",
    "    if len(input_text) <= 5:\n",
    "        return \"simple\"\n",
    "    else:\n",
    "        return \"complex\"\n",
    "\n",
    "def simple_process(state: BranchState):\n",
    "    \"\"\"짧은 입력용 간단 처리\"\"\"\n",
    "    input_text = state[\"input\"]\n",
    "    result = f\"🟢 간단 처리: '{input_text}' → 빠른 응답\"\n",
    "    \n",
    "    return {\n",
    "        \"input\": input_text,\n",
    "        \"output\": result,\n",
    "        \"path\": \"simple\"\n",
    "    }\n",
    "\n",
    "def complex_process(state: BranchState):\n",
    "    \"\"\"긴 입력용 복잡 처리\"\"\"\n",
    "    input_text = state[\"input\"]\n",
    "    result = f\"🔵 복잡 처리: '{input_text}' → 상세 분석 완료\"\n",
    "    \n",
    "    return {\n",
    "        \"input\": input_text,\n",
    "        \"output\": result,\n",
    "        \"path\": \"complex\"\n",
    "    }\n",
    "\n",
    "print(\"✅ 조건부 분기용 함수들 정의 완료!\")"
   ]
  },
  {
   "cell_type": "code",
   "execution_count": null,
   "metadata": {},
   "outputs": [],
   "source": [
    "# 조건부 분기 워크플로우\n",
    "branch_workflow = StateGraph(BranchState)\n",
    "\n",
    "# 노드들 추가\n",
    "branch_workflow.add_node(\"simple\", simple_process)\n",
    "branch_workflow.add_node(\"complex\", complex_process)\n",
    "\n",
    "# 시작점은 조건부 엣지\n",
    "branch_workflow.set_conditional_entry_point(\n",
    "    decide_path,\n",
    "    {\n",
    "        \"simple\": \"simple\",\n",
    "        \"complex\": \"complex\"\n",
    "    }\n",
    ")\n",
    "\n",
    "# 둘 다 END로\n",
    "branch_workflow.add_edge(\"simple\", END)\n",
    "branch_workflow.add_edge(\"complex\", END)\n",
    "\n",
    "# 컴파일\n",
    "branch_app = branch_workflow.compile()\n",
    "\n",
    "print(\"🌿 조건부 분기 워크플로우 완성!\")\n",
    "print(\"   흐름: START → [길이판단] → simple/complex → END\")"
   ]
  },
  {
   "cell_type": "code",
   "execution_count": null,
   "metadata": {},
   "outputs": [],
   "source": [
    "# 조건부 분기 워크플로우 시각화\n",
    "print(\"📊 조건부 분기 워크플로우 구조:\")\n",
    "visualize_graph(branch_app)"
   ]
  },
  {
   "cell_type": "code",
   "execution_count": null,
   "metadata": {},
   "outputs": [],
   "source": [
    "# 조건부 분기 동작 테스트\n",
    "print(\"🧪 조건부 분기 테스트 - 입력 길이에 따른 경로 선택\")\n",
    "print(\"📏 기준: 5글자 이하 → simple, 6글자 이상 → complex\")\n",
    "print(\"=\" * 60)\n",
    "\n",
    "test_cases = [\n",
    "    \"안녕\",           # 2글자 → simple\n",
    "    \"안녕하세요!\",      # 6글자 → complex\n",
    "    \"LangGraph 최고\"  # 12글자 → complex\n",
    "]\n",
    "\n",
    "for i, test_input in enumerate(test_cases, 1):\n",
    "    print(f\"\\n🧪 테스트 {i}: '{test_input}' ({len(test_input)}글자)\")\n",
    "    \n",
    "    result = branch_app.invoke({\n",
    "        \"input\": test_input,\n",
    "        \"output\": \"\",\n",
    "        \"path\": \"\"\n",
    "    })\n",
    "    \n",
    "    print(f\"   🛣️  선택된 경로: {result['path']}\")\n",
    "    print(f\"   📝 처리 결과: {result['output']}\")\n",
    "\n",
    "print(\"\\n🎓 조건부 분기로 입력에 따라 다른 처리를 할 수 있어요!\")"
   ]
  },
  {
   "cell_type": "markdown",
   "metadata": {},
   "source": [
    "## 🎓 학습 완료! 기본 개념 정리\n",
    "\n",
    "### ✅ 성공적으로 배운 것들:\n",
    "\n",
    "1. **State (상태)** = 워크플로우의 공유 데이터 주머니 📦\n",
    "   - `TypedDict`로 정의해서 타입 안전성 확보\n",
    "   - 노드들이 읽고 업데이트하는 공유 저장소\n",
    "\n",
    "2. **Node (노드)** = State를 처리하는 함수 ⚙️\n",
    "   - `def my_node(state) -> state:` 형태로 정의\n",
    "   - 각자 명확한 역할을 가진 처리 단계\n",
    "   - 독립적으로 테스트 가능\n",
    "\n",
    "3. **StateGraph** = 노드들을 연결한 워크플로우 🔗\n",
    "   - `add_node()`로 노드 추가\n",
    "   - `add_edge()`로 실행 순서 정의\n",
    "   - `compile()`로 실행 가능한 앱 생성\n",
    "\n",
    "4. **실행 패턴** = `compile()` → `invoke()` 🚀\n",
    "   - 그래프를 컴파일해서 실행 가능한 상태로 만들기\n",
    "   - `invoke(initial_state)`로 워크플로우 실행\n",
    "\n",
    "5. **조건부 분기** = 입력에 따른 다른 처리 경로 🛣️\n",
    "   - `set_conditional_entry_point()`로 분기 로직 설정\n",
    "   - 실무에서 사용자 유형, 문의 종류별 처리에 활용\n",
    "\n",
    "### 📊 시각화의 힘\n",
    "- `visualize_graph()`로 워크플로우 구조를 한눈에 파악\n",
    "- 노드(박스)와 엣지(화살표)로 처리 흐름 직관적 이해\n",
    "\n",
    "### 🚀 다음 학습 단계\n",
    "이제 **01-langgraph-fundamentals.ipynb**로 넘어가서:\n",
    "- 더 상세한 LangGraph 개념과 활용법\n",
    "- 메모리 시스템으로 대화 지속성 구현  \n",
    "- ReAct 패턴 이론과 시뮬레이션\n",
    "- 실무 수준의 워크플로우 구성법\n",
    "\n",
    "을 배워보세요! 기본기는 완벽해요! 🎉\n",
    "\n"
   ]
  },
  {
   "cell_type": "markdown",
   "metadata": {},
   "source": []
  }
 ],
 "metadata": {
  "kernelspec": {
   "display_name": "Python 3",
   "language": "python",
   "name": "python3"
  },
  "language_info": {
   "name": "python",
   "version": "3.8.5"
  }
 },
 "nbformat": 4,
 "nbformat_minor": 4
}
